{
 "cells": [
  {
   "cell_type": "code",
   "execution_count": null,
   "id": "c56cd067",
   "metadata": {},
   "outputs": [],
   "source": [
    "import os\n",
    "import numpy as np\n",
    "import matplotlib.pyplot as plt\n",
    "import seaborn as sns\n",
    "from dotenv import load_dotenv\n",
    "from huggingface_hub import login\n",
    "from datasets import load_dataset\n",
    "from transformers import AutoTokenizer, AutoModelForSequenceClassification, TrainingArguments, Trainer\n",
    "from sklearn.metrics import accuracy_score, f1_score, classification_report, confusion_matrix\n",
    "from pathlib import Path"
   ]
  },
  {
   "cell_type": "code",
   "execution_count": null,
   "id": "020ae92b",
   "metadata": {},
   "outputs": [],
   "source": [
    "# Login to Hugging Face Hub\n",
    "load_dotenv()\n",
    "hf_token = os.getenv(\"HF_TOKEN\")\n",
    "login(token=hf_token)"
   ]
  },
  {
   "cell_type": "code",
   "execution_count": null,
   "id": "f307008f",
   "metadata": {},
   "outputs": [],
   "source": [
    "# Define your Hugging Face Hub model repo ID\n",
    "hub_model_id = os.getenv(\"HUB_MODEL_ID\")"
   ]
  },
  {
   "cell_type": "code",
   "execution_count": null,
   "id": "1716578a",
   "metadata": {},
   "outputs": [],
   "source": [
    "# Load dataset\n",
    "project_root = Path().cwd().resolve().parent\n",
    "dataset_dir = project_root / \"data\" / \"processed\"\n",
    "dataset = load_dataset('csv', data_files={'train': str(dataset_dir / 'train.csv'), 'val': str(dataset_dir / 'val.csv'), 'test': str(dataset_dir / 'test.csv')})\n",
    "dataset"
   ]
  },
  {
   "cell_type": "code",
   "execution_count": null,
   "id": "b23d7d66",
   "metadata": {},
   "outputs": [],
   "source": [
    "# Tokenizer\n",
    "model_name = \"distilbert-base-uncased\"\n",
    "tokenizer = AutoTokenizer.from_pretrained(model_name)\n",
    "def tokenize_function(examples):\n",
    "    return tokenizer(examples['user_utterance'], padding=\"max_length\", truncation=True)\n",
    "tokenized_datasets = dataset.map(tokenize_function, batched=True)"
   ]
  },
  {
   "cell_type": "code",
   "execution_count": null,
   "id": "79acac3e",
   "metadata": {},
   "outputs": [],
   "source": [
    "# Model Setup\n",
    "num_labels = len(dataset['train'].unique('label'))\n",
    "id2label = {i: label for i, label in enumerate(sorted(set(dataset['train']['new_intent'])))}\n",
    "label2id = {label: i for i, label in id2label.items()}\n",
    "model = AutoModelForSequenceClassification.from_pretrained(\n",
    "    model_name,\n",
    "    num_labels=num_labels,\n",
    "    id2label=id2label,\n",
    "    label2id=label2id\n",
    ")"
   ]
  },
  {
   "cell_type": "code",
   "execution_count": null,
   "id": "8bf66f42",
   "metadata": {},
   "outputs": [],
   "source": [
    "def compute_validation_metrics(eval_pred):\n",
    "    predictions, labels = eval_pred\n",
    "    predictions = np.argmax(predictions, axis=1)\n",
    "    acc = accuracy_score(labels, predictions)\n",
    "    f1 = f1_score(labels, predictions, average='macro')\n",
    "    return {\"val_accuracy\": acc, \"val_f1\": f1}"
   ]
  },
  {
   "cell_type": "code",
   "execution_count": null,
   "id": "13f5ace2",
   "metadata": {},
   "outputs": [],
   "source": [
    "# Set up Training Arguments with push_to_hub enabled\n",
    "training_args = TrainingArguments(\n",
    "    output_dir=str(project_root / \"models\" / \"intent_classifier\"),\n",
    "\teval_strategy=\"epoch\",\n",
    "    per_device_train_batch_size=32,\n",
    "    per_device_eval_batch_size=32,\n",
    "    learning_rate=1e-6,\n",
    "    weight_decay=1e-3,\n",
    "    num_train_epochs=2,\n",
    "    logging_strategy=\"epoch\",\n",
    "    save_strategy=\"best\",\n",
    "    disable_tqdm=False,\n",
    "    load_best_model_at_end=True,\n",
    "    # --- Hugging Face Hub arguments ---\n",
    "    push_to_hub=True,\n",
    "    hub_model_id=hub_model_id,\n",
    "    hub_strategy=\"end\",\n",
    "    hub_token=hf_token,\n",
    "    report_to=\"none\"\n",
    ")"
   ]
  },
  {
   "cell_type": "code",
   "execution_count": null,
   "id": "aa8707b1",
   "metadata": {},
   "outputs": [],
   "source": [
    "# Create and run the Trainer\n",
    "trainer = Trainer(\n",
    "    model=model,\n",
    "    args=training_args,\n",
    "    train_dataset=tokenized_datasets[\"train\"],\n",
    "    eval_dataset=tokenized_datasets[\"val\"],\n",
    "    compute_metrics=compute_validation_metrics,\n",
    ")\n",
    "\n",
    "trainer.train()"
   ]
  },
  {
   "cell_type": "code",
   "execution_count": null,
   "id": "8d8a4d6c",
   "metadata": {},
   "outputs": [],
   "source": [
    "# Get predictions on the test set\n",
    "test_predictions = trainer.predict(tokenized_datasets[\"test\"])\n",
    "\n",
    "# Extract the predicted labels\n",
    "y_pred = np.argmax(test_predictions.predictions, axis=1)\n",
    "y_true = test_predictions.label_ids"
   ]
  },
  {
   "cell_type": "code",
   "execution_count": null,
   "id": "6f2d7c22",
   "metadata": {},
   "outputs": [],
   "source": [
    "# Generate and print the Classification Report\n",
    "target_names = sorted(set(dataset['test']['new_intent']))\n",
    "report = classification_report(y_true, y_pred, target_names=target_names)\n",
    "print(\"\\nClassification Report:\")\n",
    "print(report)"
   ]
  },
  {
   "cell_type": "code",
   "execution_count": null,
   "id": "5acf448e",
   "metadata": {},
   "outputs": [],
   "source": [
    "# Generate and save the Confusion Matrix\n",
    "cm = confusion_matrix(y_true, y_pred)\n",
    "plt.figure(figsize=(8, 6))\n",
    "sns.heatmap(cm, annot=True, fmt='d', cmap='Blues',\n",
    "            xticklabels=target_names, yticklabels=target_names)\n",
    "plt.xlabel('Predicted')\n",
    "plt.ylabel('True')\n",
    "plt.title('Confusion Matrix')\n",
    "plt.show()"
   ]
  },
  {
   "cell_type": "code",
   "execution_count": null,
   "id": "750c3704",
   "metadata": {},
   "outputs": [],
   "source": [
    "trainer.push_to_hub(commit_message=\"DistilBert fine-tuned intent classifier\")"
   ]
  }
 ],
 "metadata": {
  "kernelspec": {
   "display_name": "schedulebot-venv",
   "language": "python",
   "name": "python3"
  },
  "language_info": {
   "codemirror_mode": {
    "name": "ipython",
    "version": 3
   },
   "file_extension": ".py",
   "mimetype": "text/x-python",
   "name": "python",
   "nbconvert_exporter": "python",
   "pygments_lexer": "ipython3",
   "version": "3.11.8"
  }
 },
 "nbformat": 4,
 "nbformat_minor": 5
}
