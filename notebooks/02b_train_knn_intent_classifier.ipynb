{
 "cells": [
  {
   "cell_type": "code",
   "execution_count": null,
   "id": "b7c54a44",
   "metadata": {},
   "outputs": [],
   "source": [
    "import os\n",
    "import matplotlib.pyplot as plt\n",
    "import seaborn as sns\n",
    "from dotenv import load_dotenv\n",
    "from huggingface_hub import login, upload_file\n",
    "from datasets import load_dataset\n",
    "from pathlib import Path\n",
    "import numpy as np\n",
    "from sentence_transformers import SentenceTransformer\n",
    "from sklearn.neighbors import KNeighborsClassifier\n",
    "from sklearn.metrics import classification_report, confusion_matrix\n",
    "import joblib"
   ]
  },
  {
   "cell_type": "code",
   "execution_count": null,
   "id": "840039c4",
   "metadata": {},
   "outputs": [],
   "source": [
    "# Setup and Login\n",
    "load_dotenv()\n",
    "hf_token = os.getenv(\"HF_TOKEN\")\n",
    "hub_model_id = os.getenv(\"HUB_MODEL_ID\")\n",
    "login(token=hf_token)"
   ]
  },
  {
   "cell_type": "code",
   "execution_count": null,
   "id": "2fafd205",
   "metadata": {},
   "outputs": [],
   "source": [
    "# Load dataset\n",
    "project_root = Path().cwd().resolve().parent\n",
    "dataset_dir = project_root / \"data\" / \"processed\"\n",
    "dataset = load_dataset('csv', data_files={'train': str(dataset_dir / 'train.csv'), 'val': str(dataset_dir / 'val.csv'), 'test': str(dataset_dir / 'test.csv')})\n",
    "dataset"
   ]
  },
  {
   "cell_type": "code",
   "execution_count": null,
   "id": "053f571d",
   "metadata": {},
   "outputs": [],
   "source": [
    "# Train embeddings generation\n",
    "# Load the all-MiniLM-L6-v2 model, optimized for semantic similarity\n",
    "model_name_st = \"sentence-transformers/all-MiniLM-L6-v2\"\n",
    "st_model = SentenceTransformer(model_name_st)\n",
    "\n",
    "# Extract sentences and labels\n",
    "train_utterances = list(dataset['train']['user_utterance'])\n",
    "train_labels = list(dataset['train']['label'])\n",
    "\n",
    "# Convert sentences to numerical vectors (embeddings)\n",
    "train_embeddings = st_model.encode(train_utterances, show_progress_bar=True)\n",
    "\n",
    "print(f\"Created {len(train_embeddings)} embeddings, each of dimension {train_embeddings.shape[1]}\")"
   ]
  },
  {
   "cell_type": "code",
   "execution_count": null,
   "id": "106a2c91",
   "metadata": {},
   "outputs": [],
   "source": [
    "from sklearn.manifold import TSNE\n",
    "\n",
    "# Visualization of Embeddings with t-SNE\n",
    "# 1. Take a sample of data to speed up computation\n",
    "# t-SNE is computationally intensive. 10,000 points is a good compromise.\n",
    "num_samples = 10000\n",
    "if len(train_labels) > num_samples:\n",
    "\tprint(f\"Using a random sample of {num_samples} points for visualization.\")\n",
    "\tindices = np.random.choice(len(train_labels), num_samples, replace=False)\n",
    "\tsampled_embeddings = np.array(train_embeddings)[indices]\n",
    "\tsampled_labels = np.array(train_labels)[indices]\n",
    "else:\n",
    "\tsampled_embeddings = np.array(train_embeddings)\n",
    "\tsampled_labels = np.array(train_labels)\n",
    "\n",
    "# 2. Reduce dimensionality from 384 to 2 using t-SNE\n",
    "print(\"Running t-SNE... (this may take a few minutes)\")\n",
    "tsne = TSNE(n_components=2, perplexity=30, random_state=42)\n",
    "embeddings_2d = tsne.fit_transform(sampled_embeddings)\n",
    "\n",
    "# 3. Create the scatter plot\n",
    "print(\"Creating the plot...\")\n",
    "plt.figure(figsize=(14, 10))\n",
    "\n",
    "# Use Seaborn for a nicer plot with automatic legend\n",
    "sns.scatterplot(\n",
    "\tx=embeddings_2d[:, 0],\n",
    "\ty=embeddings_2d[:, 1],\n",
    "\thue=sampled_labels,\n",
    "\tpalette=sns.color_palette(\"hsv\", len(np.unique(sampled_labels))),\n",
    "\ts=50, # Point size\n",
    "\talpha=0.7 # Transparency\n",
    ")\n",
    "\n",
    "# Add titles and move the legend outside the plot\n",
    "plt.title('Visualization of Embeddings with t-SNE', fontsize=16)\n",
    "plt.xlabel('Dimension 1 (t-SNE)')\n",
    "plt.ylabel('Dimension 2 (t-SNE)')\n",
    "plt.legend(bbox_to_anchor=(1.05, 1), loc=2, borderaxespad=0., title='Intents')\n",
    "plt.grid(True)\n",
    "plt.show()\n"
   ]
  },
  {
   "cell_type": "code",
   "execution_count": null,
   "id": "8496d05a",
   "metadata": {},
   "outputs": [],
   "source": [
    "# Addestramento del classificatore KNN\n",
    "print(\"Addestramento del classificatore KNN...\")\n",
    "# Inizializziamo il classificatore\n",
    "# n_neighbors=5 è un valore di default comune\n",
    "knn = KNeighborsClassifier(n_neighbors=5, metric='cosine')\n",
    "\n",
    "# Addestriamo il KNN usando gli embeddings e le etichette\n",
    "knn.fit(train_embeddings, train_labels)\n",
    "\n",
    "print(\"Addestramento completato.\")"
   ]
  },
  {
   "cell_type": "code",
   "execution_count": null,
   "id": "8eb69d81",
   "metadata": {},
   "outputs": [],
   "source": [
    "# Test embeddings generation\n",
    "# Extract sentences and labels\n",
    "test_utterances = list(dataset['test']['user_utterance'])\n",
    "test_labels = list(dataset['test']['label'])\n",
    "\n",
    "# Convert sentences to numerical vectors (embeddings)\n",
    "test_embeddings = st_model.encode(test_utterances, show_progress_bar=True)"
   ]
  },
  {
   "cell_type": "code",
   "execution_count": null,
   "id": "7c50835c",
   "metadata": {},
   "outputs": [],
   "source": [
    "# Get predictions from the KNN model\n",
    "test_predictions = knn.predict(test_embeddings)"
   ]
  },
  {
   "cell_type": "code",
   "execution_count": null,
   "id": "21ab9a31",
   "metadata": {},
   "outputs": [],
   "source": [
    "# Classification Report\n",
    "target_names = sorted(set(dataset['test']['new_intent']))\n",
    "report = classification_report(test_labels, test_predictions, target_names=target_names, digits=4)\n",
    "print(\"\\nClassification Report:\")\n",
    "print(report)"
   ]
  },
  {
   "cell_type": "code",
   "execution_count": null,
   "id": "8675c03f",
   "metadata": {},
   "outputs": [],
   "source": [
    "# Confusion Matrix\n",
    "cm = confusion_matrix(test_labels, test_predictions)\n",
    "plt.figure(figsize=(8, 6))\n",
    "sns.heatmap(cm, annot=True, fmt='d', cmap='Blues',\n",
    "            xticklabels=target_names, yticklabels=target_names)\n",
    "plt.xlabel('Predicted')\n",
    "plt.ylabel('True')\n",
    "plt.title('Confusion Matrix')\n",
    "plt.show()"
   ]
  },
  {
   "cell_type": "code",
   "execution_count": null,
   "id": "0a499c21",
   "metadata": {},
   "outputs": [],
   "source": [
    "# Model Saving\n",
    "model_dir = project_root / \"models\"\n",
    "knn_model_path = model_dir / \"intent_classifier\" / \"knn_model.joblib\"\n",
    "joblib.dump(knn, knn_model_path)"
   ]
  }
 ],
 "metadata": {
  "kernelspec": {
   "display_name": "schedulebot-venv",
   "language": "python",
   "name": "python3"
  },
  "language_info": {
   "codemirror_mode": {
    "name": "ipython",
    "version": 3
   },
   "file_extension": ".py",
   "mimetype": "text/x-python",
   "name": "python",
   "nbconvert_exporter": "python",
   "pygments_lexer": "ipython3",
   "version": "3.11.8"
  }
 },
 "nbformat": 4,
 "nbformat_minor": 5
}
